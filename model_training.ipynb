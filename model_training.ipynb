{
 "cells": [
  {
   "cell_type": "code",
   "execution_count": 168,
   "metadata": {},
   "outputs": [],
   "source": [
    "import pandas as pd\n",
    "import warnings\n",
    "import matplotlib.pyplot as plt\n",
    "import seaborn as sns\n",
    "import numpy as np\n",
    "from sklearn.base import BaseEstimator, TransformerMixin\n",
    "from sklearn.pipeline import Pipeline\n",
    "from sklearn.compose import ColumnTransformer\n",
    "from sklearn.preprocessing import OneHotEncoder, StandardScaler, LabelEncoder\n",
    "from sklearn.impute import SimpleImputer\n",
    "from sklearn.model_selection import train_test_split\n",
    "from imblearn.over_sampling import SMOTE\n",
    "warnings.filterwarnings(\"ignore\")"
   ]
  },
  {
   "cell_type": "code",
   "execution_count": 159,
   "metadata": {},
   "outputs": [
    {
     "data": {
      "text/html": [
       "<div>\n",
       "<style scoped>\n",
       "    .dataframe tbody tr th:only-of-type {\n",
       "        vertical-align: middle;\n",
       "    }\n",
       "\n",
       "    .dataframe tbody tr th {\n",
       "        vertical-align: top;\n",
       "    }\n",
       "\n",
       "    .dataframe thead th {\n",
       "        text-align: right;\n",
       "    }\n",
       "</style>\n",
       "<table border=\"1\" class=\"dataframe\">\n",
       "  <thead>\n",
       "    <tr style=\"text-align: right;\">\n",
       "      <th></th>\n",
       "      <th>id</th>\n",
       "      <th>member_id</th>\n",
       "      <th>loan_amnt</th>\n",
       "      <th>term</th>\n",
       "      <th>int_rate</th>\n",
       "      <th>emp_length</th>\n",
       "      <th>home_ownership</th>\n",
       "      <th>annual_inc</th>\n",
       "      <th>desc</th>\n",
       "      <th>purpose</th>\n",
       "      <th>...</th>\n",
       "      <th>inq_last_6mths</th>\n",
       "      <th>mths_since_recent_inq</th>\n",
       "      <th>revol_util</th>\n",
       "      <th>total_bc_limit</th>\n",
       "      <th>mths_since_last_major_derog</th>\n",
       "      <th>tot_hi_cred_lim</th>\n",
       "      <th>tot_cur_bal</th>\n",
       "      <th>application_approved_flag</th>\n",
       "      <th>internal_score</th>\n",
       "      <th>bad_flag</th>\n",
       "    </tr>\n",
       "  </thead>\n",
       "  <tbody>\n",
       "    <tr>\n",
       "      <th>0</th>\n",
       "      <td>10000001</td>\n",
       "      <td>11983056.0</td>\n",
       "      <td>7550</td>\n",
       "      <td>36 months</td>\n",
       "      <td>16.24%</td>\n",
       "      <td>3 years</td>\n",
       "      <td>RENT</td>\n",
       "      <td>28000.0</td>\n",
       "      <td>NaN</td>\n",
       "      <td>debt_consolidation</td>\n",
       "      <td>...</td>\n",
       "      <td>0.0</td>\n",
       "      <td>17.0</td>\n",
       "      <td>72%</td>\n",
       "      <td>4000.0</td>\n",
       "      <td>NaN</td>\n",
       "      <td>3828.953801</td>\n",
       "      <td>5759.0</td>\n",
       "      <td>1</td>\n",
       "      <td>99</td>\n",
       "      <td>0.0</td>\n",
       "    </tr>\n",
       "    <tr>\n",
       "      <th>1</th>\n",
       "      <td>10000002</td>\n",
       "      <td>12002921.0</td>\n",
       "      <td>27050</td>\n",
       "      <td>36 months</td>\n",
       "      <td>10.99%</td>\n",
       "      <td>10+ years</td>\n",
       "      <td>OWN</td>\n",
       "      <td>55000.0</td>\n",
       "      <td>Borrower added on 12/31/13 &gt; Combining high ...</td>\n",
       "      <td>debt_consolidation</td>\n",
       "      <td>...</td>\n",
       "      <td>0.0</td>\n",
       "      <td>8.0</td>\n",
       "      <td>61.20%</td>\n",
       "      <td>35700.0</td>\n",
       "      <td>NaN</td>\n",
       "      <td>34359.940730</td>\n",
       "      <td>114834.0</td>\n",
       "      <td>1</td>\n",
       "      <td>353</td>\n",
       "      <td>0.0</td>\n",
       "    </tr>\n",
       "    <tr>\n",
       "      <th>2</th>\n",
       "      <td>10000003</td>\n",
       "      <td>11983096.0</td>\n",
       "      <td>12000</td>\n",
       "      <td>36 months</td>\n",
       "      <td>10.99%</td>\n",
       "      <td>4 years</td>\n",
       "      <td>RENT</td>\n",
       "      <td>60000.0</td>\n",
       "      <td>Borrower added on 12/31/13 &gt; I would like to...</td>\n",
       "      <td>debt_consolidation</td>\n",
       "      <td>...</td>\n",
       "      <td>1.0</td>\n",
       "      <td>3.0</td>\n",
       "      <td>24%</td>\n",
       "      <td>18100.0</td>\n",
       "      <td>NaN</td>\n",
       "      <td>16416.617760</td>\n",
       "      <td>7137.0</td>\n",
       "      <td>1</td>\n",
       "      <td>157</td>\n",
       "      <td>0.0</td>\n",
       "    </tr>\n",
       "    <tr>\n",
       "      <th>3</th>\n",
       "      <td>10000004</td>\n",
       "      <td>12003142.0</td>\n",
       "      <td>28000</td>\n",
       "      <td>36 months</td>\n",
       "      <td>7.62%</td>\n",
       "      <td>5 years</td>\n",
       "      <td>MORTGAGE</td>\n",
       "      <td>325000.0</td>\n",
       "      <td>NaN</td>\n",
       "      <td>debt_consolidation</td>\n",
       "      <td>...</td>\n",
       "      <td>1.0</td>\n",
       "      <td>3.0</td>\n",
       "      <td>54.60%</td>\n",
       "      <td>42200.0</td>\n",
       "      <td>NaN</td>\n",
       "      <td>38014.149760</td>\n",
       "      <td>799592.0</td>\n",
       "      <td>1</td>\n",
       "      <td>365</td>\n",
       "      <td>0.0</td>\n",
       "    </tr>\n",
       "    <tr>\n",
       "      <th>4</th>\n",
       "      <td>10000005</td>\n",
       "      <td>11993233.0</td>\n",
       "      <td>12000</td>\n",
       "      <td>36 months</td>\n",
       "      <td>13.53%</td>\n",
       "      <td>10+ years</td>\n",
       "      <td>RENT</td>\n",
       "      <td>40000.0</td>\n",
       "      <td>NaN</td>\n",
       "      <td>debt_consolidation</td>\n",
       "      <td>...</td>\n",
       "      <td>0.0</td>\n",
       "      <td>17.0</td>\n",
       "      <td>68.80%</td>\n",
       "      <td>7000.0</td>\n",
       "      <td>53.0</td>\n",
       "      <td>6471.462236</td>\n",
       "      <td>13605.0</td>\n",
       "      <td>1</td>\n",
       "      <td>157</td>\n",
       "      <td>0.0</td>\n",
       "    </tr>\n",
       "  </tbody>\n",
       "</table>\n",
       "<p>5 rows × 23 columns</p>\n",
       "</div>"
      ],
      "text/plain": [
       "         id   member_id  loan_amnt        term int_rate emp_length  \\\n",
       "0  10000001  11983056.0       7550   36 months   16.24%    3 years   \n",
       "1  10000002  12002921.0      27050   36 months   10.99%  10+ years   \n",
       "2  10000003  11983096.0      12000   36 months   10.99%    4 years   \n",
       "3  10000004  12003142.0      28000   36 months    7.62%    5 years   \n",
       "4  10000005  11993233.0      12000   36 months   13.53%  10+ years   \n",
       "\n",
       "  home_ownership  annual_inc  \\\n",
       "0           RENT     28000.0   \n",
       "1            OWN     55000.0   \n",
       "2           RENT     60000.0   \n",
       "3       MORTGAGE    325000.0   \n",
       "4           RENT     40000.0   \n",
       "\n",
       "                                                desc             purpose  ...  \\\n",
       "0                                                NaN  debt_consolidation  ...   \n",
       "1    Borrower added on 12/31/13 > Combining high ...  debt_consolidation  ...   \n",
       "2    Borrower added on 12/31/13 > I would like to...  debt_consolidation  ...   \n",
       "3                                                NaN  debt_consolidation  ...   \n",
       "4                                                NaN  debt_consolidation  ...   \n",
       "\n",
       "   inq_last_6mths  mths_since_recent_inq  revol_util  total_bc_limit  \\\n",
       "0             0.0                   17.0         72%          4000.0   \n",
       "1             0.0                    8.0      61.20%         35700.0   \n",
       "2             1.0                    3.0         24%         18100.0   \n",
       "3             1.0                    3.0      54.60%         42200.0   \n",
       "4             0.0                   17.0      68.80%          7000.0   \n",
       "\n",
       "   mths_since_last_major_derog tot_hi_cred_lim  tot_cur_bal  \\\n",
       "0                          NaN     3828.953801       5759.0   \n",
       "1                          NaN    34359.940730     114834.0   \n",
       "2                          NaN    16416.617760       7137.0   \n",
       "3                          NaN    38014.149760     799592.0   \n",
       "4                         53.0     6471.462236      13605.0   \n",
       "\n",
       "   application_approved_flag  internal_score  bad_flag  \n",
       "0                          1              99       0.0  \n",
       "1                          1             353       0.0  \n",
       "2                          1             157       0.0  \n",
       "3                          1             365       0.0  \n",
       "4                          1             157       0.0  \n",
       "\n",
       "[5 rows x 23 columns]"
      ]
     },
     "execution_count": 159,
     "metadata": {},
     "output_type": "execute_result"
    }
   ],
   "source": [
    "data = pd.read_csv(r'C:\\Priyanka\\job_application_2024\\JPMorganChase\\Take Home Project\\training_loan_data.csv', header=1)\n",
    "data.head(5)"
   ]
  },
  {
   "cell_type": "markdown",
   "metadata": {},
   "source": [
    "### Data Preparation\n",
    "- remove duplicates\n",
    "- split data into train and test set"
   ]
  },
  {
   "cell_type": "code",
   "execution_count": 160,
   "metadata": {},
   "outputs": [],
   "source": [
    "data.drop_duplicates(keep='first', inplace=True)\n",
    "data.reset_index(drop=True, inplace=True)\n",
    "data.dropna(subset=['bad_flag'], inplace=True)"
   ]
  },
  {
   "cell_type": "code",
   "execution_count": 151,
   "metadata": {},
   "outputs": [
    {
     "data": {
      "text/plain": [
       "188123"
      ]
     },
     "execution_count": 151,
     "metadata": {},
     "output_type": "execute_result"
    }
   ],
   "source": [
    "len(data)"
   ]
  },
  {
   "cell_type": "code",
   "execution_count": 161,
   "metadata": {},
   "outputs": [],
   "source": [
    "# split into train and test set\n",
    "## Separating Independent and Dependent Columns\n",
    "X = data.drop(['bad_flag'],axis=1)\n",
    "Y = data[['bad_flag']]\n",
    "\n",
    "# Splitting the dataset into the Training and Testing set.\n",
    "x_train, x_test, y_train, y_test = train_test_split(X,Y, test_size = 0.2, random_state = 1,stratify = Y)\n"
   ]
  },
  {
   "cell_type": "code",
   "execution_count": 162,
   "metadata": {},
   "outputs": [],
   "source": [
    "# Data Preprocessing steps \n",
    "def feature_engineering(data):\n",
    "    data['int_rate'] = data['int_rate'].str.replace('%', '').astype(float)\n",
    "    data.loc[data['emp_length'] == '< 1 year', 'emp_length'] = '0 year'\n",
    "    data['emp_length_yr'] = data['emp_length'].str.extract(r'(\\d+)')\n",
    "    data.drop(columns=['emp_length'], inplace=True)\n",
    "    return data\n",
    "\n",
    "\n",
    "def rare_category_combiner(data):\n",
    "    data.loc[data['home_ownership'].isin(['OTHER', 'OWN']), 'home_ownership'] = 'OTHER'\n",
    "    data.loc[~data['purpose'].isin(['debt_consolidation', 'credit_card']), 'purpose'] = 'other'\n",
    "    return data\n",
    "\n",
    "\n",
    "def get_numerical_features():\n",
    "    return ['loan_amnt', 'int_rate', 'annual_inc', 'percent_bc_gt_75', 'dti', 'inq_last_6mths', 'mths_since_recent_inq', 'total_bc_limit']\n",
    "\n",
    "def get_le_categorical_features():\n",
    "    return ['emp_length_yr']\n",
    "\n",
    "def get_ohe_categorical_features():\n",
    "    return ['home_ownership', 'purpose', 'term']\n",
    "\n",
    "def convert_into_category(data):\n",
    "    for column in get_ohe_categorical_features() + get_le_categorical_features():\n",
    "        data[column] = data[column].astype('category')\n",
    "    return data\n",
    "\n",
    "def preprocessor(data):\n",
    "    data = feature_engineering(data)\n",
    "    data = rare_category_combiner(data)\n",
    "    data = data[get_numerical_features() + get_ohe_categorical_features() + get_le_categorical_features()]\n",
    "    data = convert_into_category(data)\n",
    "    return data"
   ]
  },
  {
   "cell_type": "code",
   "execution_count": 163,
   "metadata": {},
   "outputs": [],
   "source": [
    "# Data Transformation steps\n",
    "class LabelEncodingTransformer(BaseEstimator, TransformerMixin):\n",
    "    def __init__(self):\n",
    "        self.le = LabelEncoder()\n",
    "        #self.columns = get_le_categorical_features()\n",
    "\n",
    "    def fit(self, data, y=None):\n",
    "        self.le.fit(data['emp_length_yr'])\n",
    "        return self\n",
    "\n",
    "    def transform(self, data):\n",
    "        self.le.transform(data['emp_length_yr'])\n",
    "        return data\n",
    "\n",
    "\n",
    "class ModelFeatures(BaseEstimator, TransformerMixin):\n",
    "    def __init__(self):\n",
    "        return\n",
    "\n",
    "    def fit(self,):\n",
    "        return self\n",
    "\n",
    "    def transform(self, data):\n",
    "        return data[get_numerical_features() + get_ohe_categorical_features() + get_le_categorical_features()]\n",
    "    \n",
    "\n",
    "numerical_pipeline = Pipeline(steps=[\n",
    "    ('imputer', SimpleImputer(strategy='median')), \n",
    "    ('scaler', StandardScaler())\n",
    "])\n",
    "\n",
    "# Pipeline for categorical features\n",
    "categorical_label_encoder_pipeline = Pipeline(steps=[\n",
    "    ('imputer', SimpleImputer(strategy='most_frequent')),\n",
    "    ('encoder', OneHotEncoder(handle_unknown='ignore', drop='first'))\n",
    "    #('label_encoder', LabelEncodingTransformer())\n",
    "])\n",
    "\n",
    "# Pipeline for categorical features\n",
    "categorical_pipeline = Pipeline(steps=[\n",
    "    ('imputer', SimpleImputer(strategy='most_frequent')),\n",
    "    ('encoder', OneHotEncoder(handle_unknown='ignore', drop='first'))\n",
    "])\n",
    "\n",
    "\n",
    "# Combine pipelines into a ColumnTransformer\n",
    "transformer_pipeline = ColumnTransformer(\n",
    "    transformers=[\n",
    "        ('num', numerical_pipeline, get_numerical_features()),\n",
    "        ('ohe_cat', categorical_pipeline, get_ohe_categorical_features()),\n",
    "        ('le_cat', categorical_label_encoder_pipeline, get_le_categorical_features())\n",
    "    ])\n"
   ]
  },
  {
   "cell_type": "code",
   "execution_count": 164,
   "metadata": {},
   "outputs": [],
   "source": [
    "x_train = preprocessor(x_train)\n",
    "x_train = transformer_pipeline.fit_transform(x_train)"
   ]
  },
  {
   "cell_type": "code",
   "execution_count": 165,
   "metadata": {},
   "outputs": [],
   "source": [
    "x_test = preprocessor(x_test)\n",
    "x_test = transformer_pipeline.transform(x_test)"
   ]
  },
  {
   "cell_type": "code",
   "execution_count": 167,
   "metadata": {},
   "outputs": [
    {
     "data": {
      "text/plain": [
       "(150498, 37625)"
      ]
     },
     "execution_count": 167,
     "metadata": {},
     "output_type": "execute_result"
    }
   ],
   "source": [
    "len(x_train), len(x_test)"
   ]
  },
  {
   "cell_type": "markdown",
   "metadata": {},
   "source": [
    "### Apply oversampling technique - SMOTE to balance the training set. \n",
    "I did not oversample  the entire set, because I wanted to testing set to be original data for model validation."
   ]
  },
  {
   "cell_type": "code",
   "execution_count": 169,
   "metadata": {},
   "outputs": [],
   "source": [
    "smote=SMOTE(sampling_strategy='not majority')\n",
    "x_sm , y_sm = smote.fit_resample(x_train,y_train)"
   ]
  },
  {
   "cell_type": "code",
   "execution_count": 170,
   "metadata": {},
   "outputs": [
    {
     "name": "stdout",
     "output_type": "stream",
     "text": [
      "After Oversampling, the shape of train_X: (279992, 24)\n",
      "After Oversampling, the shape of train_y: (279992, 1) \n",
      "\n"
     ]
    }
   ],
   "source": [
    "print(\"After Oversampling - SMOTE, the shape of x_train: {}\".format(x_sm.shape))\n",
    "print(\"After Oversampling - SMOTE, the shape of y_train: {} \\n\".format(y_sm.shape))"
   ]
  },
  {
   "cell_type": "markdown",
   "metadata": {},
   "source": [
    "### Model Training"
   ]
  },
  {
   "cell_type": "code",
   "execution_count": null,
   "metadata": {},
   "outputs": [],
   "source": []
  }
 ],
 "metadata": {
  "kernelspec": {
   "display_name": "base",
   "language": "python",
   "name": "python3"
  },
  "language_info": {
   "codemirror_mode": {
    "name": "ipython",
    "version": 3
   },
   "file_extension": ".py",
   "mimetype": "text/x-python",
   "name": "python",
   "nbconvert_exporter": "python",
   "pygments_lexer": "ipython3",
   "version": "3.12.4"
  }
 },
 "nbformat": 4,
 "nbformat_minor": 2
}
